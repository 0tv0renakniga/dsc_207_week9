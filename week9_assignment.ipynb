{
  "cells": [
    {
      "cell_type": "markdown",
      "metadata": {
        "id": "E8i3Bx6yjeZi"
      },
      "source": [
        "# Week 9 Study Notebook\n",
        "\n",
        "# UC San Diego OMDS DSC 207"
      ]
    },
    {
      "cell_type": "markdown",
      "metadata": {
        "id": "yeBnd-nmjeZk"
      },
      "source": [
        "## Assignment Instructions-\n",
        "1. You may use any visualization tool - seaborn/matplotlib for a task\n",
        "2. Sample outputs are provided but your output may vary based on choice of library and parameters.\n",
        "3. Use the mandatory parameter values wherever specified"
      ]
    },
    {
      "cell_type": "markdown",
      "metadata": {
        "id": "k6EBncn8liAW"
      },
      "source": [
        "Note: Currently, there is an autograder configured for the week 9 assignment on Gradescope. Please feel free to ignore this as we will be grading the entire assignment manually."
      ]
    },
    {
      "cell_type": "markdown",
      "metadata": {
        "id": "LgLrIkqOjeZm"
      },
      "source": [
        "# Natural Language Processing with `nltk`\n",
        "\n",
        "`nltk` is the most popular Python package for Natural Language processing, it provides algorithms for importing, cleaning, pre-processing text data in human language and then apply computational linguistics algorithms like sentiment analysis.\n",
        "\n",
        "It also includes many easy-to-use datasets in the `nltk.corpus` package, we can download for example the `movie_reviews` package using the `nltk.download` function:"
      ]
    },
    {
      "cell_type": "markdown",
      "metadata": {
        "id": "L2DIQ43GjeZn"
      },
      "source": [
        "## Inspect the Movie Reviews Dataset"
      ]
    },
    {
      "cell_type": "code",
      "execution_count": 114,
      "metadata": {
        "id": "Y1vWI9iTjeZn"
      },
      "outputs": [],
      "source": [
        "# Uncomment the below line and run this cell if you need to install nltk\n",
        "#!pip install nltk"
      ]
    },
    {
      "cell_type": "code",
      "execution_count": 115,
      "metadata": {
        "id": "9xqS4pXEjeZn"
      },
      "outputs": [],
      "source": [
        "#Run this cell for all the imports\n",
        "import pandas as pd\n",
        "import numpy as np\n",
        "import nltk"
      ]
    },
    {
      "cell_type": "code",
      "execution_count": 116,
      "metadata": {
        "id": "UkSnjr3NAtxV"
      },
      "outputs": [],
      "source": [
        "# Import the sentiment intensity analyzer\n",
        "#!pip install vaderSentiment\n",
        "from vaderSentiment.vaderSentiment import SentimentIntensityAnalyzer"
      ]
    },
    {
      "cell_type": "code",
      "execution_count": 117,
      "metadata": {},
      "outputs": [
        {
          "name": "stderr",
          "output_type": "stream",
          "text": [
            "[nltk_data] Downloading package movie_reviews to\n",
            "[nltk_data]     /home/scotty/nltk_data...\n",
            "[nltk_data]   Package movie_reviews is already up-to-date!\n"
          ]
        },
        {
          "data": {
            "text/plain": [
              "True"
            ]
          },
          "execution_count": 117,
          "metadata": {},
          "output_type": "execute_result"
        }
      ],
      "source": [
        "#Run this cell to download the dataset\n",
        "nltk.download(\"movie_reviews\")"
      ]
    },
    {
      "cell_type": "markdown",
      "metadata": {
        "id": "0_TYgNRmjeZo"
      },
      "source": [
        "You can also list and download other datasets interactively, just type:\n",
        "\n",
        "`nltk.download()`\n",
        "    \n",
        "in the Jupyter Notebook."
      ]
    },
    {
      "cell_type": "code",
      "execution_count": 118,
      "metadata": {
        "id": "cN6fiwBxjeZo"
      },
      "outputs": [],
      "source": [
        "#Run this cell to import the dataset\n",
        "from nltk.corpus import movie_reviews"
      ]
    },
    {
      "cell_type": "code",
      "execution_count": 119,
      "metadata": {
        "id": "lFR08MDtjeZo"
      },
      "outputs": [
        {
          "name": "stderr",
          "output_type": "stream",
          "text": [
            "[nltk_data] Downloading package vader_lexicon to\n",
            "[nltk_data]     /home/scotty/nltk_data...\n",
            "[nltk_data]   Package vader_lexicon is already up-to-date!\n",
            "[nltk_data] Downloading package punkt_tab to /home/scotty/nltk_data...\n"
          ]
        },
        {
          "name": "stderr",
          "output_type": "stream",
          "text": [
            "[nltk_data]   Package punkt_tab is already up-to-date!\n"
          ]
        },
        {
          "data": {
            "text/plain": [
              "True"
            ]
          },
          "execution_count": 119,
          "metadata": {},
          "output_type": "execute_result"
        }
      ],
      "source": [
        "#Run this cell for later use in tokenization\n",
        "nltk.download('vader_lexicon')  # for sentiment analysis\n",
        "nltk.download('punkt_tab')  # for tokenizing"
      ]
    },
    {
      "cell_type": "markdown",
      "metadata": {
        "id": "mr7MRewpjeZo"
      },
      "source": [
        "## 1. Tokenize Text in Words"
      ]
    },
    {
      "cell_type": "code",
      "execution_count": 120,
      "metadata": {
        "id": "3LZbdx56jeZo"
      },
      "outputs": [],
      "source": [
        "#Run this cell\n",
        "romeo_text = \"\"\"Why then, O brawling love! O loving hate!\n",
        "O any thing, of nothing first create!\n",
        "O heavy lightness, serious vanity,\n",
        "Misshapen chaos of well-seeming forms,\n",
        "Feather of lead, bright smoke, cold fire, sick health,\n",
        "Still-waking sleep, that is not what it is!\n",
        "This love feel I, that feel no love in this.\"\"\""
      ]
    },
    {
      "cell_type": "markdown",
      "metadata": {
        "deletable": false,
        "editable": false,
        "id": "NOYVwETgjeZo"
      },
      "source": [
        "The first step in Natural Language processing is generally to split the text into words, this process might appear simple but it is very tedious to handle all corner cases, see for example all the issues with punctuation we have to solve if we just start with a split on whitespace.\n",
        "\n",
        "1.1 **Split `romeo_text` by spaces and store the resultant list of words in the variable `romeo_tokens`** [0.5 pt]"
      ]
    },
    {
      "cell_type": "code",
      "execution_count": 121,
      "metadata": {
        "id": "-5gZFidFjeZo",
        "tags": []
      },
      "outputs": [],
      "source": [
        "# split with no args will split string by whitespace\n",
        "romeo_tokens = romeo_text.split()\n"
      ]
    },
    {
      "cell_type": "code",
      "execution_count": 122,
      "metadata": {
        "deletable": false,
        "editable": false,
        "id": "-UAgp_gBjeZq"
      },
      "outputs": [],
      "source": [
        "assert type(romeo_tokens) == list\n",
        "assert len(romeo_tokens) == 52"
      ]
    },
    {
      "cell_type": "markdown",
      "metadata": {
        "deletable": false,
        "editable": false,
        "id": "2T0E5MRLjeZq"
      },
      "source": [
        "`nltk` has a sophisticated word tokenizer trained on English named `punkt` which we imported earlier in the notebook."
      ]
    },
    {
      "cell_type": "markdown",
      "metadata": {
        "deletable": false,
        "editable": false,
        "id": "IzelcAqQjeZq"
      },
      "source": [
        "1.2  **Use the `nltk.word_tokenize(text)` function to properly tokenize `romeo_text` and stores the result as `romeo_words`. Print the resultant list.** Compare it to the whitespace splitting we used above and mention the difference. [0.5 pt]"
      ]
    },
    {
      "cell_type": "code",
      "execution_count": 123,
      "metadata": {
        "id": "ww0hQiEljeZq",
        "tags": []
      },
      "outputs": [],
      "source": [
        "romeo_words = nltk.word_tokenize(romeo_text)"
      ]
    },
    {
      "cell_type": "code",
      "execution_count": 124,
      "metadata": {
        "deletable": false,
        "editable": false,
        "id": "b8uUSX-HjeZq"
      },
      "outputs": [],
      "source": [
        "assert type(romeo_words) == list\n",
        "assert len(romeo_words) == 68"
      ]
    },
    {
      "cell_type": "markdown",
      "metadata": {
        "deletable": false,
        "editable": false,
        "id": "jJ7L2t6sjeZq"
      },
      "source": [
        "## 2. Build a bag-of-words model\n",
        "\n",
        "The simplest model for analyzing text is just to think about text as an unordered collection of words (bag-of-words). This can generally allow to infer from the text the category, the topic or the sentiment.\n",
        "\n",
        "From the bag-of-words model we can build features to be used by a classifier, here we assume that each word is a feature that can either be `True` or `False`.\n",
        "We implement this in Python as a dictionary where for each word in a sentence we associate `True`.\n",
        "\n",
        "2.1 **Write a function `build_bag_of_words(words)` that returns such a dictionary with {word : True} format given a set of words. Call the function with `romeo_words` and store the resultant dictionary as `romeo_word_dict`.** [1 pt]"
      ]
    },
    {
      "cell_type": "code",
      "execution_count": 125,
      "metadata": {
        "id": "d3xHS-l5jeZq",
        "tags": []
      },
      "outputs": [],
      "source": [
        "def build_bag_of_words_features(words):\n",
        "    romeo_word_dict = {i:True for i in romeo_words }\n",
        "    return(romeo_word_dict)\n",
        "\n",
        "romeo_word_dict = build_bag_of_words_features(romeo_words)"
      ]
    },
    {
      "cell_type": "code",
      "execution_count": 126,
      "metadata": {
        "deletable": false,
        "editable": false,
        "id": "xUqOjgjDjeZq"
      },
      "outputs": [],
      "source": [
        "# Sanity check\n",
        "assert type(build_bag_of_words_features(romeo_words)) == dict\n",
        "assert sum(value for value in romeo_word_dict.values() if value) == 45\n"
      ]
    },
    {
      "cell_type": "markdown",
      "metadata": {
        "id": "yfjjBI50jeZq"
      },
      "source": [
        "This is what we wanted, but we notice that also punctuation like \"!\" and words useless for classification purposes like \"of\" or \"that\" are also included.\n",
        "Those words are named \"stopwords\" and `nltk` has a convenient corpus we can download:"
      ]
    },
    {
      "cell_type": "code",
      "execution_count": 127,
      "metadata": {
        "id": "aOQS0TKQjeZq"
      },
      "outputs": [
        {
          "name": "stderr",
          "output_type": "stream",
          "text": [
            "[nltk_data] Downloading package stopwords to /home/scotty/nltk_data...\n",
            "[nltk_data]   Package stopwords is already up-to-date!\n"
          ]
        },
        {
          "data": {
            "text/plain": [
              "True"
            ]
          },
          "execution_count": 127,
          "metadata": {},
          "output_type": "execute_result"
        }
      ],
      "source": [
        "#Run this cell\n",
        "nltk.download(\"stopwords\")"
      ]
    },
    {
      "cell_type": "code",
      "execution_count": 128,
      "metadata": {
        "id": "SNXMb6AnjeZr"
      },
      "outputs": [
        {
          "data": {
            "text/plain": [
              "'!\"#$%&\\'()*+,-./:;<=>?@[\\\\]^_`{|}~'"
            ]
          },
          "execution_count": 128,
          "metadata": {},
          "output_type": "execute_result"
        }
      ],
      "source": [
        "#Run this cell\n",
        "import string\n",
        "string.punctuation"
      ]
    },
    {
      "cell_type": "markdown",
      "metadata": {
        "deletable": false,
        "editable": false,
        "id": "_lPMqep_jeZr"
      },
      "source": [
        "Using the Python `string.punctuation` list and the English stopwords we can build better features by filtering out those words that would not help in the classification.\n",
        "\n",
        "2.2 **Create a list `useless_words` that is a collection of stopwords (from the nltk corpus) in english and the punctuation characters.** [0.5 pt]"
      ]
    },
    {
      "cell_type": "code",
      "execution_count": 129,
      "metadata": {
        "id": "Zpq6sCA9jeZr",
        "tags": []
      },
      "outputs": [],
      "source": [
        "from nltk.corpus import stopwords\n",
        "useless_words = list(stopwords.words('english')) + list(string.punctuation)\n"
      ]
    },
    {
      "cell_type": "code",
      "execution_count": 130,
      "metadata": {
        "id": "r8n3FkD5hNPM"
      },
      "outputs": [],
      "source": [
        "assert type(useless_words) == list\n",
        "#assert len(useless_words) == 211\n",
        "# len of useless_words should be 230\n",
        "assert len(useless_words) == 230"
      ]
    },
    {
      "cell_type": "markdown",
      "metadata": {
        "deletable": false,
        "editable": false,
        "id": "oro_XnIJjeZr"
      },
      "source": [
        "2.3 **Write a function `build_bag_of_words_features_filtered(words)` that returns a filtered bag of words - a dictionary with only useful words as key and 1 as the value. Call this function with `romeo_words` and store the resultant dictionary as `romeo_useful_word_dict`. (Note: don't convert the words to lowercase before checking if they are a stop word.)** [1 pt]"
      ]
    },
    {
      "cell_type": "code",
      "execution_count": 131,
      "metadata": {
        "id": "6m4Ob8mXjeZr",
        "tags": []
      },
      "outputs": [],
      "source": [
        "\n",
        "def build_bag_of_words_features_filtered(words):\n",
        "    romeo_useful_word_dict = {word:1 for word in words if word not in useless_words}\n",
        "    return romeo_useful_word_dict\n",
        "\n",
        "romeo_useful_word_dict = build_bag_of_words_features_filtered(romeo_words)\n"
      ]
    },
    {
      "cell_type": "code",
      "execution_count": 132,
      "metadata": {
        "deletable": false,
        "editable": false,
        "id": "PaJxLlwMjeZr"
      },
      "outputs": [],
      "source": [
        "# Sanity check\n",
        "assert type(build_bag_of_words_features_filtered(romeo_words)) == dict\n",
        "assert len(romeo_useful_word_dict) == 31"
      ]
    },
    {
      "cell_type": "markdown",
      "metadata": {
        "deletable": false,
        "editable": false,
        "id": "Jgs6tClFjeZr"
      },
      "source": [
        "## 3. Frequencies of Words\n",
        "\n",
        "It is common to explore a dataset before starting the analysis, in this section we will find the most common words and plot their frequency.\n",
        "\n",
        "3.1. Using the `movie_reviews.words()` (the nltk corpus we imported previously) with no argument we can extract the words from the entire dataset as `all_words` and check that it is about 1.6 millions. [0.5 pt]"
      ]
    },
    {
      "cell_type": "code",
      "execution_count": 133,
      "metadata": {
        "id": "OP--a4nqjeZr",
        "tags": []
      },
      "outputs": [],
      "source": [
        "from nltk.corpus import movie_reviews\n",
        "all_words = movie_reviews.words()"
      ]
    },
    {
      "cell_type": "markdown",
      "metadata": {
        "deletable": false,
        "editable": false,
        "id": "92VCYW3ijeZr"
      },
      "source": [
        "3.2. Filter out `useless_words` as defined in the previous section, and create a new list `filtered_words` this will reduce the length of the dataset by more than a factor of 2. (Hint - Use python list comprehension) [0.5 pt]"
      ]
    },
    {
      "cell_type": "code",
      "execution_count": 134,
      "metadata": {
        "id": "-vMuUmT_jeZr",
        "tags": []
      },
      "outputs": [],
      "source": [
        "\n",
        "filtered_words = [word for word in all_words if word not in useless_words]"
      ]
    },
    {
      "cell_type": "code",
      "execution_count": 135,
      "metadata": {
        "deletable": false,
        "editable": false,
        "id": "8OjO8MQ4jeZr"
      },
      "outputs": [],
      "source": [
        "assert type(filtered_words) == list"
      ]
    },
    {
      "cell_type": "markdown",
      "metadata": {
        "id": "FZ9JvlqdjeZw"
      },
      "source": [
        "The `collection` package of the standard library contains a `Counter` class that is handy for counting frequencies of words in our list:"
      ]
    },
    {
      "cell_type": "code",
      "execution_count": 136,
      "metadata": {
        "id": "Y8Oy7kKbjeZw"
      },
      "outputs": [],
      "source": [
        "# Run this cell\n",
        "from collections import Counter\n",
        "word_counter = Counter(filtered_words)\n"
      ]
    },
    {
      "cell_type": "markdown",
      "metadata": {
        "deletable": false,
        "editable": false,
        "id": "f47yTmyMjeZw"
      },
      "source": [
        "3.3 It also has a [most_common() ](https://pythontic.com/containers/counter/most_common) method of the word_counter and store the top 10 used words from the corpus in `most_common_words`. [0.5 pt]?"
      ]
    },
    {
      "cell_type": "code",
      "execution_count": 137,
      "metadata": {
        "id": "7YS84BJtjeZw",
        "tags": []
      },
      "outputs": [],
      "source": [
        "\n",
        "most_common_words = word_counter.most_common(n=10)"
      ]
    },
    {
      "cell_type": "code",
      "execution_count": 138,
      "metadata": {
        "deletable": false,
        "editable": false,
        "id": "6pkTYJeFjeZw"
      },
      "outputs": [],
      "source": [
        "assert type(most_common_words) == list\n",
        "assert len(most_common_words) == 10"
      ]
    },
    {
      "cell_type": "markdown",
      "metadata": {
        "deletable": false,
        "editable": false,
        "id": "kCLf4jiFjeZw"
      },
      "source": [
        "<!-- BEGIN QUESTION -->\n",
        "\n",
        "## 4. Sentiment Analysis [2 pt]\n",
        "\n",
        "Using the sentiment intensity analyzer, loop over the `list_sentences` and print the polarity scores of each of the sentence. (Hint - refer to lecture notebook)"
      ]
    },
    {
      "cell_type": "code",
      "execution_count": null,
      "metadata": {
        "id": "xY8I4gNIjeZw",
        "tags": []
      },
      "outputs": [
        {
          "name": "stdout",
          "output_type": "stream",
          "text": [
            "vader->Hello, how are you?------------------------------------ {'neg': 0.0, 'neu': 1.0, 'pos': 0.0, 'compound': 0.0}\n",
            " nltk->Hello, how are you?------------------------------------ {'neg': 0.0, 'neu': 1.0, 'pos': 0.0, 'compound': 0.0}\n",
            "\n",
            "vader->Today is a nice day------------------------------------ {'neg': 0.0, 'neu': 0.588, 'pos': 0.412, 'compound': 0.4215}\n",
            " nltk->Today is a nice day------------------------------------ {'neg': 0.0, 'neu': 0.517, 'pos': 0.483, 'compound': 0.4215}\n",
            "\n",
            "vader->I don't like the food at the cafe---------------------- {'neg': 0.232, 'neu': 0.768, 'pos': 0.0, 'compound': -0.2755}\n",
            " nltk->I don't like the food at the cafe---------------------- {'neg': 0.26, 'neu': 0.74, 'pos': 0.0, 'compound': -0.2755}\n",
            "\n",
            "vader->This is the worst pizza I have ever had.--------------- {'neg': 0.339, 'neu': 0.661, 'pos': 0.0, 'compound': -0.6249}\n",
            " nltk->This is the worst pizza I have ever had.--------------- {'neg': 0.369, 'neu': 0.631, 'pos': 0.0, 'compound': -0.6249}\n",
            "\n",
            "vader->The orange juice is delicious!------------------------- {'neg': 0.0, 'neu': 0.501, 'pos': 0.499, 'compound': 0.6114}\n",
            " nltk->The orange juice is delicious!------------------------- {'neg': 0.0, 'neu': 0.501, 'pos': 0.499, 'compound': 0.6114}\n",
            "\n",
            "vader->I am late to class.------------------------------------ {'neg': 0.0, 'neu': 1.0, 'pos': 0.0, 'compound': 0.0}\n",
            " nltk->I am late to class.------------------------------------ {'neg': 0.0, 'neu': 1.0, 'pos': 0.0, 'compound': 0.0}\n",
            "\n"
          ]
        }
      ],
      "source": [
        "import nltk.sentiment\n",
        "\n",
        "list_sentences = [\"Hello, how are you?\", \"Today is a nice day\", \"I don't like the food at the cafe\", \"This is the worst pizza I have ever had.\", \"The orange juice is delicious!\", \"I am late to class.\" ]\n",
        "\n",
        "# create sentiment analyzer objects\n",
        "# one for vader and nltk to see differences\n",
        "sia_vader = SentimentIntensityAnalyzer()\n",
        "sia_nltk = nltk.sentiment.SentimentIntensityAnalyzer()\n",
        "plot_data = []\n",
        "\n",
        "#print and build plot data\n",
        "for sent in list_sentences:\n",
        "    \n",
        "    polarity_score = sia_vader.polarity_scores(sent)\n",
        "    print(f\"vader->{sent:-<55} {polarity_score}\")\n",
        "    for i,j in polarity_score.items():\n",
        "        polarity_data = {}\n",
        "        polarity_data['method'] = 'vader'\n",
        "        polarity_data['sentence'] = sent\n",
        "        polarity_data['polarity_type'] = i\n",
        "        polarity_data['polarity_score'] = j\n",
        "        plot_data.append(polarity_data)\n",
        "    \n",
        "    polarity_score = sia_nltk.polarity_scores(sent)\n",
        "    print(f\" nltk->{sent:-<55} {polarity_score}\\n\")\n",
        "    for i,j in polarity_score.items():\n",
        "        polarity_data = {}\n",
        "        polarity_data['method'] = 'nltk'\n",
        "        polarity_data['sentence'] = sent\n",
        "        polarity_data['polarity_type'] = i\n",
        "        polarity_data['polarity_score'] = j\n",
        "        plot_data.append(polarity_data)\n",
        "\n"
      ]
    },
    {
      "cell_type": "markdown",
      "metadata": {},
      "source": [
        "### Visualize nltk and vader SentimentIntensityAnalyzer Differences"
      ]
    },
    {
      "cell_type": "code",
      "execution_count": 200,
      "metadata": {
        "id": "rENJdd-pzLxs"
      },
      "outputs": [
        {
          "data": {
            "image/png": "[encoded data removed]",
            "text/plain": [
              "<Figure size 1000x500 with 6 Axes>"
            ]
          },
          "metadata": {},
          "output_type": "display_data"
        }
      ],
      "source": [
        "import matplotlib.pyplot as plt\n",
        "import seaborn as sns\n",
        "\n",
        "df = pd.DataFrame(plot_data)\n",
        "\n",
        "fig, ax = plt.subplots(3,2,sharey=True,sharex=True,figsize=(10,5))\n",
        "ax = ax.flatten()\n",
        "for i, col in enumerate(df.sentence.unique()):\n",
        "    if i ==0:\n",
        "        sns.barplot(y=df[df['sentence']==col]['polarity_score'], x=df[df['sentence']==col]['method'], hue=df['polarity_type'], ax=ax[i])\n",
        "        ax[i].set_ylabel('polarity Score')\n",
        "        ax[i].set_xlabel('method')\n",
        "        ax[i].set_title(f'{col}',fontsize=12)\n",
        "        handles, labels = ax[0].get_legend_handles_labels() \n",
        "        fig.legend(handles, labels,loc='upper center',bbox_to_anchor=(0.5, 0.025), ncol=4,frameon=True)\n",
        "        ax[i].get_legend().remove()\n",
        "        \n",
        "    else:\n",
        "        sns.barplot(legend=False, y=df[df['sentence']==col]['polarity_score'], x=df[df['sentence']==col]['method'], hue=df['polarity_type'], ax=ax[i])\n",
        "        ax[i].set_ylabel('polarity Score')\n",
        "        ax[i].set_xlabel('method')\n",
        "        ax[i].set_title(f'{col}',fontsize=12)\n",
        "    \n",
        "fig.tight_layout()\n"
      ]
    }
  ],
  "metadata": {
    "colab": {
      "provenance": []
    },
    "kernelspec": {
      "display_name": "ucsd",
      "language": "python",
      "name": "python3"
    },
    "language_info": {
      "codemirror_mode": {
        "name": "ipython",
        "version": 3
      },
      "file_extension": ".py",
      "mimetype": "text/x-python",
      "name": "python",
      "nbconvert_exporter": "python",
      "pygments_lexer": "ipython3",
      "version": "3.12.3"
    },
    "otter": {
      "OK_FORMAT": true,
      "tests": {
        "q1": {
          "name": "q1",
          "points": 0.5,
          "suites": [
            {
              "cases": [],
              "scored": true,
              "setup": "",
              "teardown": "",
              "type": "doctest"
            }
          ]
        },
        "q2": {
          "name": "q2",
          "points": 0.5,
          "suites": [
            {
              "cases": [],
              "scored": true,
              "setup": "",
              "teardown": "",
              "type": "doctest"
            }
          ]
        },
        "q3": {
          "name": "q3",
          "points": 1,
          "suites": [
            {
              "cases": [],
              "scored": true,
              "setup": "",
              "teardown": "",
              "type": "doctest"
            }
          ]
        },
        "q4": {
          "name": "q4",
          "points": 0.5,
          "suites": [
            {
              "cases": [],
              "scored": true,
              "setup": "",
              "teardown": "",
              "type": "doctest"
            }
          ]
        },
        "q5": {
          "name": "q5",
          "points": 1,
          "suites": [
            {
              "cases": [],
              "scored": true,
              "setup": "",
              "teardown": "",
              "type": "doctest"
            }
          ]
        },
        "q6": {
          "name": "q6",
          "points": 0.5,
          "suites": [
            {
              "cases": [],
              "scored": true,
              "setup": "",
              "teardown": "",
              "type": "doctest"
            }
          ]
        },
        "q7": {
          "name": "q7",
          "points": 0.5,
          "suites": [
            {
              "cases": [],
              "scored": true,
              "setup": "",
              "teardown": "",
              "type": "doctest"
            }
          ]
        },
        "q8": {
          "name": "q8",
          "points": 0.5,
          "suites": [
            {
              "cases": [],
              "scored": true,
              "setup": "",
              "teardown": "",
              "type": "doctest"
            }
          ]
        }
      }
    }
  },
  "nbformat": 4,
  "nbformat_minor": 0
}
